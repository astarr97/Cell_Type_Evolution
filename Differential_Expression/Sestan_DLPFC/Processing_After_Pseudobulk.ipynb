{
 "cells": [
  {
   "cell_type": "code",
   "execution_count": null,
   "id": "fa4b7777",
   "metadata": {},
   "outputs": [],
   "source": [
    "import pandas as pd\n",
    "import scipy\n",
    "import copy\n",
    "import numpy as np\n",
    "import os\n"
   ]
  },
  {
   "cell_type": "code",
   "execution_count": null,
   "id": "30ea07ae",
   "metadata": {},
   "outputs": [],
   "source": [
    "#Split up into cell types\n",
    "for file in os.listdir(\"Subtype\"):\n",
    "    if \"Pseudobulked_Sestan_2022_DLPFC\" in file and \".txt\" in file and \"Split\" not in file:\n",
    "        v = pd.read_csv(\"Subtype/\" + file, sep = \"\\t\").set_index(\"subtype\").T\n",
    "        v = v.sort_index().T\n",
    "        for index, row in v.iterrows():\n",
    "            print(index)\n",
    "            x = pd.DataFrame(row)\n",
    "            x.to_csv(\"Subtype/Split/Pseudobulked_Sestan_2022_DLPFC\" + \"Split_\" + index.replace(\" \", \"_\").replace(\"/\", \"-\") + \"_\" + file.replace(\"Pseudobulked_Sestan_2022_DLPFC\", \"\"), sep = \"\\t\", header = None)\n"
   ]
  },
  {
   "cell_type": "code",
   "execution_count": null,
   "id": "3a69ea34",
   "metadata": {},
   "outputs": [],
   "source": [
    "#Make config files, can repeat this with different species combinations as needed\n",
    "for i in subtypes:\n",
    "    out = open(\"Subtype/Config_\" + \"_\".join(i.split(\" \")) + \"_Human_Marmoset.txt\", 'w')\n",
    "    for file in os.listdir(\"Subtype/Split\"):\n",
    "        if i.replace(\" \", \"_\").replace(\"/\", \"-\") in file and \".txt\" in file and \"HSB\" in file and \"Subtype\" in file:\n",
    "            out.write(\"\\t\".join([\"Split/\" + file, \"human\"]) + \"\\n\")\n",
    "    for file in os.listdir(\"Subtype/Split\"):\n",
    "        if i.replace(\" \", \"_\").replace(\"/\", \"-\") in file and \".txt\" and \"CJB\" in file and \"Subtype\" in file:\n",
    "            out.write(\"\\t\".join([\"Split/\" + file, \"marmoset\"]) + \"\\n\")\n",
    "    out.close()\n"
   ]
  },
  {
   "cell_type": "code",
   "execution_count": null,
   "id": "ee3d0495",
   "metadata": {},
   "outputs": [],
   "source": [
    "#Swaps the sign of l2fc for rhesus for consistency.\n",
    "f = os.listdir(\"Subtype\")\n",
    "for file in f:\n",
    "    if \"DESeq2\" in file and (\"Marm\" in file or \"Rhesus\" in file) and \"tpm\" not in file and \"pdf\" not in file and \"cpm\" not in file:\n",
    "        print(file)\n",
    "        v = pd.read_csv(\"Subtype/\" + file, sep = \"\\t\")\n",
    "        v[\"log2FoldChange\"] = -1*v[\"log2FoldChange\"]\n",
    "        v.to_csv(\"Subtype/\" + file, index = False, sep = \"\\t\")"
   ]
  }
 ],
 "metadata": {
  "kernelspec": {
   "display_name": "Python 3 (ipykernel)",
   "language": "python",
   "name": "python3"
  },
  "language_info": {
   "codemirror_mode": {
    "name": "ipython",
    "version": 3
   },
   "file_extension": ".py",
   "mimetype": "text/x-python",
   "name": "python",
   "nbconvert_exporter": "python",
   "pygments_lexer": "ipython3",
   "version": "3.11.4"
  }
 },
 "nbformat": 4,
 "nbformat_minor": 5
}
