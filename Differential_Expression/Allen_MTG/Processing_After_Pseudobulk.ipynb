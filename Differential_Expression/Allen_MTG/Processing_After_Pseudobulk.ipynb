{
 "cells": [
  {
   "cell_type": "code",
   "execution_count": 1,
   "id": "9a940afd",
   "metadata": {},
   "outputs": [
    {
     "name": "stderr",
     "output_type": "stream",
     "text": [
      "C:\\Users\\astar\\anaconda3\\Lib\\site-packages\\pandas\\core\\arrays\\masked.py:60: UserWarning: Pandas requires version '1.3.6' or newer of 'bottleneck' (version '1.3.5' currently installed).\n",
      "  from pandas.core import (\n"
     ]
    }
   ],
   "source": [
    "import pandas as pd\n",
    "import scipy\n",
    "import copy\n",
    "import numpy as np\n",
    "import os\n",
    "#Chimp > gorilla should be positive lfc"
   ]
  },
  {
   "cell_type": "code",
   "execution_count": 5,
   "id": "a17f5192",
   "metadata": {},
   "outputs": [],
   "source": [
    "os.mkdir(\"Subclass/Split\")"
   ]
  },
  {
   "cell_type": "code",
   "execution_count": 10,
   "id": "d483425d",
   "metadata": {},
   "outputs": [
    {
     "name": "stdout",
     "output_type": "stream",
     "text": [
      "Astro\n",
      "Chandelier\n",
      "Endo\n",
      "L2/3 IT\n",
      "L4 IT\n",
      "L5 ET\n",
      "L5 IT\n",
      "L5/6 NP\n",
      "L6 CT\n",
      "L6 IT\n",
      "L6 IT Car3\n",
      "L6b\n",
      "Lamp5\n",
      "Lamp5_Lhx6\n",
      "Micro-PVM\n",
      "OPC\n",
      "Oligo\n",
      "Pax6\n",
      "Pvalb\n",
      "Sncg\n",
      "Sst\n",
      "Sst Chodl\n",
      "VLMC\n",
      "Vip\n",
      "Astro\n",
      "Chandelier\n",
      "Endo\n",
      "L2/3 IT\n",
      "L4 IT\n",
      "L5 ET\n",
      "L5 IT\n",
      "L5/6 NP\n",
      "L6 CT\n",
      "L6 IT\n",
      "L6 IT Car3\n",
      "L6b\n",
      "Lamp5\n",
      "Lamp5_Lhx6\n",
      "Micro-PVM\n",
      "OPC\n",
      "Oligo\n",
      "Pax6\n",
      "Pvalb\n",
      "Sncg\n",
      "Sst\n",
      "Sst Chodl\n",
      "VLMC\n",
      "Vip\n",
      "Astro\n",
      "Chandelier\n",
      "Endo\n",
      "L2/3 IT\n",
      "L4 IT\n",
      "L5 ET\n",
      "L5 IT\n",
      "L5/6 NP\n",
      "L6 CT\n",
      "L6 IT\n",
      "L6 IT Car3\n",
      "L6b\n",
      "Lamp5\n",
      "Lamp5_Lhx6\n",
      "Micro-PVM\n",
      "OPC\n",
      "Oligo\n",
      "Pax6\n",
      "Pvalb\n",
      "Sncg\n",
      "Sst\n",
      "Sst Chodl\n",
      "VLMC\n",
      "Vip\n",
      "Astro\n",
      "Chandelier\n",
      "Endo\n",
      "L2/3 IT\n",
      "L4 IT\n",
      "L5 ET\n",
      "L5 IT\n",
      "L5/6 NP\n",
      "L6 CT\n",
      "L6 IT\n",
      "L6 IT Car3\n",
      "L6b\n",
      "Lamp5\n",
      "Lamp5_Lhx6\n",
      "Micro-PVM\n",
      "OPC\n",
      "Oligo\n",
      "Pax6\n",
      "Pvalb\n",
      "Sncg\n",
      "Sst\n",
      "Sst Chodl\n",
      "VLMC\n",
      "Vip\n"
     ]
    }
   ],
   "source": [
    "#Split by cell type\n",
    "#Can repeat this for Subtype (cross_species_cluster) instead of Subclass\n",
    "for file in os.listdir(\"Subclass\"):\n",
    "    if \"Pseudobulked_Allen_2023_MTG\" in file and \".txt\" in file and \"Split\" not in file:\n",
    "        v = pd.read_csv(\"Subclass/\" + file, sep = \"\\t\").set_index(\"subclass\").T\n",
    "        v = v.sort_index().T\n",
    "        for index, row in v.iterrows():\n",
    "            print(index)\n",
    "            x = pd.DataFrame(row)\n",
    "            x.to_csv(\"Subclass/Split/Pseudobulked_Allen_2023_MTG_\" + \"Split_\" + index.replace(\" \", \"_\").replace(\"/\", \"-\") + \"_\" + file.replace(\"Pseudobulked_Allen_2023_MTG_\", \"\"), sep = \"\\t\", header = None)\n"
   ]
  },
  {
   "cell_type": "code",
   "execution_count": 5,
   "id": "82d22a4b",
   "metadata": {},
   "outputs": [
    {
     "name": "stdout",
     "output_type": "stream",
     "text": [
      "['L6 CT', 'L2/3 IT', 'L5 IT', 'Endo', 'L6 IT Car3', 'Sst Chodl', 'Lamp5', 'L6b', 'Chandelier', 'OPC', 'Oligo', 'L5/6 NP', 'Vip', 'Micro-PVM', 'Astro', 'Pax6', 'Sst', 'L4 IT', 'VLMC', 'L5 ET', 'Sncg', 'L6 IT', 'Pvalb', 'Lamp5_Lhx6']\n"
     ]
    }
   ],
   "source": [
    "#Get a list of all cell types\n",
    "all_cts = []\n",
    "for file in os.listdir(\"Subclass\"):\n",
    "    if \"Pseudobulked_Allen_2023_MTG\" in file and \".txt\" in file and \"Split\" not in file:\n",
    "        v = pd.read_csv(\"Subclass/\" + file, sep = \"\\t\").set_index(\"subclass\")\n",
    "        all_cts = all_cts + list(v.index)\n",
    "all_cts = list(set(all_cts))\n",
    "print(all_cts)"
   ]
  },
  {
   "cell_type": "code",
   "execution_count": 15,
   "id": "eeefe1df",
   "metadata": {},
   "outputs": [],
   "source": [
    "import os\n",
    "#Create config files\n",
    "#For the three cell types Lamp5, Sst, and L6 IT you will have to go in and manually delete extra cell types that \n",
    "#exactly contain that string\n",
    "#all_cts = [\"Lamp5\", \"Sst\", \"L6 IT\"]\n",
    "for i in all_cts:\n",
    "    out = open(\"Subclass/Config_\" + i.replace(\" \", \"_\").replace(\"/\", \"-\") + \"_Chimp_Rhesus.txt\", 'w')\n",
    "    for file in os.listdir(\"Subclass/Split\"):\n",
    "        if i.replace(\" \", \"_\").replace(\"/\", \"-\") in file and \"Chimp\" in file:\n",
    "            out.write(\"\\t\".join([\"Split/\" + file, \"chimp\"]) + \"\\n\")\n",
    "    for file in os.listdir(\"Subclass/Split\"):\n",
    "        if i.replace(\" \", \"_\").replace(\"/\", \"-\") in file and \"Rhesus\" in file:\n",
    "            out.write(\"\\t\".join([\"Split/\" + file, \"rhesus\"]) + \"\\n\")\n",
    "    out.close()"
   ]
  },
  {
   "cell_type": "code",
   "execution_count": 16,
   "id": "ac8323e0",
   "metadata": {},
   "outputs": [
    {
     "name": "stdout",
     "output_type": "stream",
     "text": [
      "DESeq2_Astro_Chimp_Rhesus.txt\n",
      "DESeq2_Chandelier_Chimp_Rhesus.txt\n",
      "DESeq2_Endo_Chimp_Rhesus.txt\n",
      "DESeq2_L2-3_IT_Chimp_Rhesus.txt\n",
      "DESeq2_L4_IT_Chimp_Rhesus.txt\n",
      "DESeq2_L5-6_NP_Chimp_Rhesus.txt\n",
      "DESeq2_L5_ET_Chimp_Rhesus.txt\n",
      "DESeq2_L5_IT_Chimp_Rhesus.txt\n",
      "DESeq2_L6b_Chimp_Rhesus.txt\n",
      "DESeq2_L6_CT_Chimp_Rhesus.txt\n",
      "DESeq2_L6_IT_Car3_Chimp_Rhesus.txt\n",
      "DESeq2_L6_IT_Chimp_Rhesus.txt\n",
      "DESeq2_L6_IT_Gorilla_Rhesus.txt\n",
      "DESeq2_Lamp5_Chimp_Rhesus.txt\n",
      "DESeq2_Lamp5_Gorilla_Rhesus.txt\n",
      "DESeq2_Lamp5_Lhx6_Chimp_Rhesus.txt\n",
      "DESeq2_Micro-PVM_Chimp_Rhesus.txt\n",
      "DESeq2_Oligo_Chimp_Rhesus.txt\n",
      "DESeq2_OPC_Chimp_Rhesus.txt\n",
      "DESeq2_Pax6_Chimp_Rhesus.txt\n",
      "DESeq2_Pvalb_Chimp_Rhesus.txt\n",
      "DESeq2_Sncg_Chimp_Rhesus.txt\n",
      "DESeq2_Sst_Chimp_Rhesus.txt\n",
      "DESeq2_Sst_Chodl_Chimp_Rhesus.txt\n",
      "DESeq2_Sst_Gorilla_Rhesus.txt\n",
      "DESeq2_Vip_Chimp_Rhesus.txt\n",
      "DESeq2_VLMC_Chimp_Rhesus.txt\n"
     ]
    }
   ],
   "source": [
    "#Flip the sign of the log fold-change for rhesus and marmoset\n",
    "f = os.listdir(\"Subclass\")\n",
    "for file in f:\n",
    "    if \"DESeq2\" in file and (\"Marm\" in file or \"Rhesus\" in file or (\"Gorilla\" in file and \"Chimp\" in file)) and \"tpm\" not in file and \"pdf\" not in file and \"cpm\" not in file:\n",
    "        print(file)\n",
    "        v = pd.read_csv(\"Subclass/\" + file, sep = \"\\t\")\n",
    "        v[\"log2FoldChange\"] = -1*v[\"log2FoldChange\"]\n",
    "        v.to_csv(file, index = False, sep = \"\\t\")"
   ]
  }
 ],
 "metadata": {
  "kernelspec": {
   "display_name": "Python 3 (ipykernel)",
   "language": "python",
   "name": "python3"
  },
  "language_info": {
   "codemirror_mode": {
    "name": "ipython",
    "version": 3
   },
   "file_extension": ".py",
   "mimetype": "text/x-python",
   "name": "python",
   "nbconvert_exporter": "python",
   "pygments_lexer": "ipython3",
   "version": "3.11.4"
  }
 },
 "nbformat": 4,
 "nbformat_minor": 5
}
